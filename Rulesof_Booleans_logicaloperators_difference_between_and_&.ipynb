{
  "nbformat": 4,
  "nbformat_minor": 0,
  "metadata": {
    "colab": {
      "name": "Rulesof_Booleans_logicaloperators_difference_between_and_&.ipynb",
      "provenance": [],
      "collapsed_sections": [],
      "authorship_tag": "ABX9TyPYEV44JKmJ0dPDcs1i6A8M",
      "include_colab_link": true
    },
    "kernelspec": {
      "name": "python3",
      "display_name": "Python 3"
    },
    "language_info": {
      "name": "python"
    }
  },
  "cells": [
    {
      "cell_type": "markdown",
      "metadata": {
        "id": "view-in-github",
        "colab_type": "text"
      },
      "source": [
        "<a href=\"https://colab.research.google.com/github/FelipeVillegasH/Teoria_Coding_Dojo/blob/main/Rulesof_Booleans_logicaloperators_difference_between_and_%26.ipynb\" target=\"_parent\"><img src=\"https://colab.research.google.com/assets/colab-badge.svg\" alt=\"Open In Colab\"/></a>"
      ]
    },
    {
      "cell_type": "markdown",
      "source": [
        "#REGLAS DE FUNCIONAMIENTO DE BOOLEANOS Y LOGICA SECUENCIAL DE OPERADORES LOGICOS\n",
        "\n",
        "POR: FELIPE VILLEGAS\n",
        "\n",
        "FECHA DE CREACION: 07.01.2022\n",
        "\n",
        "FECHA DE ACTUALIZACION: 07.01.2022\n",
        "\n",
        "DESCRIPCION: \n",
        "False=0 y True=1, "
      ],
      "metadata": {
        "id": "FecxZujGzbqG"
      }
    },
    {
      "cell_type": "markdown",
      "source": [
        "# REGLAS DE FUNCIONAMIENTO DE BOOBLEANS\n",
        "False=0 y True=1"
      ],
      "metadata": {
        "id": "R8S0KCAYyamQ"
      }
    },
    {
      "cell_type": "code",
      "execution_count": 61,
      "metadata": {
        "colab": {
          "base_uri": "https://localhost:8080/"
        },
        "id": "FRIEG6y6xo3u",
        "outputId": "0eb1341e-b659-4903-dd8c-ee5131c2bc9f"
      },
      "outputs": [
        {
          "output_type": "execute_result",
          "data": {
            "text/plain": [
              "False"
            ]
          },
          "metadata": {},
          "execution_count": 61
        }
      ],
      "source": [
        "(False+False)==1+1\n",
        "# resultado = False\n",
        "(True+False)==1+1\n",
        "# resultado = false\n",
        "(True+True)==1+1\n",
        "# resultado True\n",
        "(False+False)==-1+1\n",
        "# resultado = True\n",
        "(False+False)==1-1\n",
        "# resultado = True\n",
        "# POR LO TANTO False=0 y True=1\n",
        "True==False\n",
        "# resultado = false\n"
      ]
    },
    {
      "cell_type": "markdown",
      "source": [
        "# LOGICA DE SECUENCIA DE OPERADORES LOGICOS\n"
      ],
      "metadata": {
        "id": "tGy-fX9CzNwK"
      }
    },
    {
      "cell_type": "code",
      "source": [
        "num= 5\n",
        "if num > 3:\n",
        "  print(num)\n",
        "# el operador logico if cumple la condicion y por lo tanto se imprime el numero"
      ],
      "metadata": {
        "colab": {
          "base_uri": "https://localhost:8080/"
        },
        "id": "8yMup5GQz-4g",
        "outputId": "08d9c9f3-ca7e-41b4-edc5-3b90cf11f0c0"
      },
      "execution_count": 10,
      "outputs": [
        {
          "output_type": "stream",
          "name": "stdout",
          "text": [
            "5\n"
          ]
        }
      ]
    },
    {
      "cell_type": "code",
      "source": [
        "numero = 15\n",
        "if numero %5==0: \n",
        "  print(\"Fizz\")\n",
        "# el operador del % me indica que si el residuo de la division de la varible numero para 5 es 0, entonces es divisible para 5 cerrados\n"
      ],
      "metadata": {
        "colab": {
          "base_uri": "https://localhost:8080/"
        },
        "id": "EknAitoU1bi_",
        "outputId": "1a21cc45-aec2-4510-97a2-68f16cbe398f"
      },
      "execution_count": 13,
      "outputs": [
        {
          "output_type": "stream",
          "name": "stdout",
          "text": [
            "Fizz\n"
          ]
        }
      ]
    },
    {
      "cell_type": "code",
      "source": [
        "numero = 15\n",
        "if numero %3==0: \n",
        "  print(\"Buzz\")\n",
        "# el operador de % indica que el residuo de 15/3 es cero y por lo tanto, se concluye que 15 es divisible para 3 cerrados"
      ],
      "metadata": {
        "colab": {
          "base_uri": "https://localhost:8080/"
        },
        "id": "Ccc5B1QM2ZXl",
        "outputId": "33ce7ff0-7b08-4450-a9d0-9a9e870af448"
      },
      "execution_count": 14,
      "outputs": [
        {
          "output_type": "stream",
          "name": "stdout",
          "text": [
            "Buzz\n"
          ]
        }
      ]
    },
    {
      "cell_type": "code",
      "source": [
        "numero = 15\n",
        "if numero %3==0 and numero %5==0: \n",
        "  print(\"FizzBuzz\")\n",
        "\n"
      ],
      "metadata": {
        "colab": {
          "base_uri": "https://localhost:8080/"
        },
        "id": "1gXrdUX22ulw",
        "outputId": "b0070f84-1f7c-4da9-e335-aa16a2d5c4c7"
      },
      "execution_count": 18,
      "outputs": [
        {
          "output_type": "stream",
          "name": "stdout",
          "text": [
            "FizzBuzz\n"
          ]
        }
      ]
    },
    {
      "cell_type": "code",
      "source": [
        "numero = 15\n",
        "if numero %4==0 and numero %5==0: \n",
        "  print(\"FizzBuzz\")\n",
        "# no se imprime porque no se cumplen ambas condiciones\n"
      ],
      "metadata": {
        "id": "BURae_XP3bXF"
      },
      "execution_count": 23,
      "outputs": []
    },
    {
      "cell_type": "code",
      "source": [
        "numero = 15\n",
        "if numero %5==0 and numero %4==0: \n",
        "  print(\"FizzBuzz\")\n",
        "# no se imprime porque no se cumplen ambas condiciones"
      ],
      "metadata": {
        "id": "tySv9C7k3pGU"
      },
      "execution_count": 29,
      "outputs": []
    },
    {
      "cell_type": "code",
      "source": [
        "numero = 15\n",
        "if numero %5==0 & numero %4==0: \n",
        "  print(\"FizzBuzz\")\n",
        "# SI se imprime ya que se analiza bit by bit y al cumplirse la primera condicion, se asume como verdadera"
      ],
      "metadata": {
        "colab": {
          "base_uri": "https://localhost:8080/"
        },
        "id": "MNIEvZ-23vW9",
        "outputId": "e1291235-8f84-4410-cd36-ca8b94ade8a3"
      },
      "execution_count": 26,
      "outputs": [
        {
          "output_type": "stream",
          "name": "stdout",
          "text": [
            "FizzBuzz\n"
          ]
        }
      ]
    },
    {
      "cell_type": "code",
      "source": [
        "numero = 15\n",
        "if numero %4==0 & numero %5==0: \n",
        "  print(\"FizzBuzz\")\n",
        "# no es asi el caso cuando se evalua el residuo de 15/4 ya que da un valor y por lo tanto la computadora lo interpreta como falso y no se imprime nada \n",
        " "
      ],
      "metadata": {
        "id": "Vx6kuC0i74Ig"
      },
      "execution_count": 62,
      "outputs": []
    },
    {
      "cell_type": "markdown",
      "source": [
        "#DIFERENCIA ENTRE AND Y & \n",
        "# Mientras AND evalua los valores booleanos true or false\n",
        "# & evalua bit by bit, es decir cada uno de los digitos 0 y 1 combinados en binario para crear un numero. Hasta encontrar un valor falso y ahi detiene la iteracion.\n",
        "# esto quiere decir que si no se cumple la condicion de que salga un cero, entonces la computadora evaluara como falsa la primera situacion  sin importar la segunda.\n",
        "\n",
        "#Resumen: AND evalua true vs false o a su vez si la variable tiene valor o es 0, mientras que & evalua el codigo binario de cada numero y cuando encuentra algo que no coincide.\n",
        "\n",
        "cuando se usan los operadores and y & solos entre dos numeros o variables, estos evaluan si estas variables son 0 o 1 o a su vez True or False. lo unico que cambia es que valor se imprime cuando esto sucede ya que and evalua ambos factores simultaneamente y & los evalua de manera secuencial."
      ],
      "metadata": {
        "id": "afgxXBdJ8HXH"
      }
    },
    {
      "cell_type": "code",
      "source": [
        "# ejemplo practico con & y and \n",
        "a, b = 9, 10\n",
        "print(a & b)#line 1\n",
        "print(a and b)#line 2\n",
        "c, d = 7, 10\n",
        "print(c & d)#line 3\n",
        "print(c and d)#line 4\n",
        "# como podemos observar, en la linea 1, el resultado que nos arroja es 8, es deicr ninguno de los valores expuestos en las variables a y b \n",
        "# si iteramos en la linea 3 con otros valores, tampoco nos da siempre un numero de los expresados en las variables \n",
        "# se concluye que se dan sumas binarias u otro analisis computacional para los numeros que resultan y en conclusion, no se los puede evaluar \n",
        "# como factores para decir si algo es cierto o no \n",
        "# a diferencia de and que al iterar simultaneamente ambas variables, al ser verdaderas, imprime la 'ultima iteracion"
      ],
      "metadata": {
        "colab": {
          "base_uri": "https://localhost:8080/"
        },
        "id": "lSM2gcXg-Ijl",
        "outputId": "0b5b5a66-c6af-4b03-da62-66b69ccd18a9"
      },
      "execution_count": 59,
      "outputs": [
        {
          "output_type": "stream",
          "name": "stdout",
          "text": [
            "8\n",
            "10\n",
            "2\n",
            "10\n"
          ]
        }
      ]
    }
  ]
}